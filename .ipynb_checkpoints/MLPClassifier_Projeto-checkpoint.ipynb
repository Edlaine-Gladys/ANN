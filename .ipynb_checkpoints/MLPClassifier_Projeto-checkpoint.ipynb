{
 "cells": [
  {
   "cell_type": "markdown",
   "metadata": {},
   "source": [
    "##  Projeto Projeto - Aplicação de Redes Neurais\n",
    "\n",
    "Edlaine Gladys - Maio 2021\n",
    "\n"
   ]
  },
  {
   "cell_type": "markdown",
   "metadata": {},
   "source": [
    "## Introdução: Business Problem <a name=\"introduction\"></a>"
   ]
  },
  {
   "cell_type": "markdown",
   "metadata": {},
   "source": [
    ">Objetivo: O aluno deverá ser capaz de realizar uma análise completa dos dados e projetar uma rede neural para resolver o problema. \n",
    "\n",
    ">Avaliar osresultados obtidos através das métricas de classificação.\n",
    "\n",
    ">Problema: \n",
    "\n",
    ">De posse de dados que correspondem a sinais de transitórios de eletrodomésticos (sinais obtidos em uma janela de 2s ao se ligar equipamento) e que foram rotulados em 7 diferentes classes, seguindo os passos da tabela abaixo.\n",
    "\n",
    "### Tabela:"
   ]
  },
  {
   "cell_type": "markdown",
   "metadata": {},
   "source": [
    "|Tópicos         | Descrição do processo  | \n",
    "|------------------ |---------|\n",
    "|      |        |        \n",
    "|[1.Aquisição e limpeza dos dados](#data)|Carregar os dados e realizar a limpeza dos dados (se necessário)        |\n",
    "|      |        |      \n",
    "|  [2.Vizualização das classes](#classes)      | Visualizar os dados para compreensão (Plotar 1 exemplo de cada Classe)      |\n",
    "|      |        |  \n",
    "|  [3. Transformação Multilabels](#label)      | Como é um problema muticlasse,transformar oslabels para uma representação correta. |\n",
    "|      |        |  \n",
    "| [4.Preparação dos dados para Machine Learning](#preparacao)  |  Preparar os dados para se apresentados à ML      | \n",
    "|      |        |  \n",
    "|   [5.Construindo o modelo de Rede Neural](#analysis)   | Construir a rede neural com seus respectivos parâmetros (taxa deaprendizado, número de camadas intermediárias, número de neurônios, batch_size etc)       |  \n",
    "|      |        |  \n",
    "|   [6.Avaliação do modelo](#results)   |Testar e validar os resultados        | \n",
    "|      |        |  \n",
    "|    [7.PCA](#PCA)  |Uso de PCA (Análise de Componentes Principais) para visualização dos dados e também como speed-up da ML (para fins de classificação)   |\n",
    "|      |        |  \n",
    "|    [8.Conclusão](#conclusion)  |     Discussão do resultado   |  \n",
    "\n",
    "\n"
   ]
  },
  {
   "cell_type": "markdown",
   "metadata": {},
   "source": [
    "## Aquisição e limpeza dos dados <a name=\"data\"></a>"
   ]
  },
  {
   "cell_type": "markdown",
   "metadata": {},
   "source": [
    "Carregando as bibilotecas necessárias."
   ]
  },
  {
   "cell_type": "code",
   "execution_count": 1,
   "metadata": {},
   "outputs": [],
   "source": [
    "import pandas as pd\n",
    "import numpy as np\n",
    "import dtale\n",
    "import matplotlib.pyplot as plt\n",
    "from sklearn.model_selection import train_test_split\n",
    "from sklearn.model_selection import GridSearchCV\n",
    "from sklearn.neural_network import MLPClassifier\n",
    "from sklearn.preprocessing import StandardScaler\n",
    "from sklearn import metrics\n",
    "from sklearn.metrics import confusion_matrix\n",
    "from sklearn.decomposition import PCA\n",
    "import warnings\n",
    "warnings.filterwarnings('ignore')"
   ]
  },
  {
   "cell_type": "markdown",
   "metadata": {},
   "source": [
    "Carregando os dados:"
   ]
  },
  {
   "cell_type": "code",
   "execution_count": 2,
   "metadata": {},
   "outputs": [
    {
     "data": {
      "text/html": [
       "<div>\n",
       "<style scoped>\n",
       "    .dataframe tbody tr th:only-of-type {\n",
       "        vertical-align: middle;\n",
       "    }\n",
       "\n",
       "    .dataframe tbody tr th {\n",
       "        vertical-align: top;\n",
       "    }\n",
       "\n",
       "    .dataframe thead th {\n",
       "        text-align: right;\n",
       "    }\n",
       "</style>\n",
       "<table border=\"1\" class=\"dataframe\">\n",
       "  <thead>\n",
       "    <tr style=\"text-align: right;\">\n",
       "      <th></th>\n",
       "      <th>t0</th>\n",
       "      <th>t1</th>\n",
       "      <th>t2</th>\n",
       "      <th>t3</th>\n",
       "      <th>t4</th>\n",
       "      <th>t5</th>\n",
       "      <th>t6</th>\n",
       "      <th>t7</th>\n",
       "      <th>t8</th>\n",
       "      <th>t9</th>\n",
       "      <th>...</th>\n",
       "      <th>t191</th>\n",
       "      <th>t192</th>\n",
       "      <th>t193</th>\n",
       "      <th>t194</th>\n",
       "      <th>t195</th>\n",
       "      <th>t196</th>\n",
       "      <th>t197</th>\n",
       "      <th>t198</th>\n",
       "      <th>t199</th>\n",
       "      <th>Classes</th>\n",
       "    </tr>\n",
       "  </thead>\n",
       "  <tbody>\n",
       "    <tr>\n",
       "      <th>0</th>\n",
       "      <td>24.00</td>\n",
       "      <td>24.00</td>\n",
       "      <td>23.00</td>\n",
       "      <td>25.00</td>\n",
       "      <td>24.00</td>\n",
       "      <td>25.00</td>\n",
       "      <td>24.00</td>\n",
       "      <td>24.00</td>\n",
       "      <td>22.00</td>\n",
       "      <td>25.00</td>\n",
       "      <td>...</td>\n",
       "      <td>1.00</td>\n",
       "      <td>-1.00</td>\n",
       "      <td>1.00</td>\n",
       "      <td>-1.00</td>\n",
       "      <td>1.00</td>\n",
       "      <td>0.00</td>\n",
       "      <td>1.00</td>\n",
       "      <td>0.00</td>\n",
       "      <td>0.00</td>\n",
       "      <td>1</td>\n",
       "    </tr>\n",
       "    <tr>\n",
       "      <th>1</th>\n",
       "      <td>23.00</td>\n",
       "      <td>23.00</td>\n",
       "      <td>22.00</td>\n",
       "      <td>21.00</td>\n",
       "      <td>21.00</td>\n",
       "      <td>22.00</td>\n",
       "      <td>23.00</td>\n",
       "      <td>23.00</td>\n",
       "      <td>22.00</td>\n",
       "      <td>21.00</td>\n",
       "      <td>...</td>\n",
       "      <td>-1.00</td>\n",
       "      <td>1.00</td>\n",
       "      <td>0.00</td>\n",
       "      <td>1.00</td>\n",
       "      <td>-1.00</td>\n",
       "      <td>0.00</td>\n",
       "      <td>-1.00</td>\n",
       "      <td>1.00</td>\n",
       "      <td>0.00</td>\n",
       "      <td>1</td>\n",
       "    </tr>\n",
       "    <tr>\n",
       "      <th>2</th>\n",
       "      <td>-0.55</td>\n",
       "      <td>-0.55</td>\n",
       "      <td>-0.55</td>\n",
       "      <td>3.45</td>\n",
       "      <td>13.45</td>\n",
       "      <td>11.45</td>\n",
       "      <td>18.45</td>\n",
       "      <td>18.45</td>\n",
       "      <td>20.45</td>\n",
       "      <td>20.45</td>\n",
       "      <td>...</td>\n",
       "      <td>-0.55</td>\n",
       "      <td>0.45</td>\n",
       "      <td>-0.55</td>\n",
       "      <td>0.45</td>\n",
       "      <td>-0.55</td>\n",
       "      <td>0.45</td>\n",
       "      <td>-0.55</td>\n",
       "      <td>0.45</td>\n",
       "      <td>-0.55</td>\n",
       "      <td>1</td>\n",
       "    </tr>\n",
       "    <tr>\n",
       "      <th>3</th>\n",
       "      <td>12.30</td>\n",
       "      <td>10.30</td>\n",
       "      <td>15.30</td>\n",
       "      <td>15.30</td>\n",
       "      <td>16.30</td>\n",
       "      <td>15.30</td>\n",
       "      <td>17.30</td>\n",
       "      <td>16.30</td>\n",
       "      <td>17.30</td>\n",
       "      <td>15.30</td>\n",
       "      <td>...</td>\n",
       "      <td>-0.70</td>\n",
       "      <td>0.30</td>\n",
       "      <td>-0.70</td>\n",
       "      <td>0.30</td>\n",
       "      <td>-0.70</td>\n",
       "      <td>1.30</td>\n",
       "      <td>-0.70</td>\n",
       "      <td>1.30</td>\n",
       "      <td>-0.70</td>\n",
       "      <td>1</td>\n",
       "    </tr>\n",
       "    <tr>\n",
       "      <th>4</th>\n",
       "      <td>24.85</td>\n",
       "      <td>2.85</td>\n",
       "      <td>5.85</td>\n",
       "      <td>-1.15</td>\n",
       "      <td>2.85</td>\n",
       "      <td>-1.15</td>\n",
       "      <td>1.85</td>\n",
       "      <td>-1.15</td>\n",
       "      <td>0.85</td>\n",
       "      <td>-1.15</td>\n",
       "      <td>...</td>\n",
       "      <td>-0.15</td>\n",
       "      <td>0.85</td>\n",
       "      <td>-1.15</td>\n",
       "      <td>-0.15</td>\n",
       "      <td>-1.15</td>\n",
       "      <td>0.85</td>\n",
       "      <td>-0.15</td>\n",
       "      <td>0.85</td>\n",
       "      <td>-0.15</td>\n",
       "      <td>2</td>\n",
       "    </tr>\n",
       "  </tbody>\n",
       "</table>\n",
       "<p>5 rows × 201 columns</p>\n",
       "</div>"
      ],
      "text/plain": [
       "      t0     t1     t2     t3     t4     t5     t6     t7     t8     t9  ...  \\\n",
       "0  24.00  24.00  23.00  25.00  24.00  25.00  24.00  24.00  22.00  25.00  ...   \n",
       "1  23.00  23.00  22.00  21.00  21.00  22.00  23.00  23.00  22.00  21.00  ...   \n",
       "2  -0.55  -0.55  -0.55   3.45  13.45  11.45  18.45  18.45  20.45  20.45  ...   \n",
       "3  12.30  10.30  15.30  15.30  16.30  15.30  17.30  16.30  17.30  15.30  ...   \n",
       "4  24.85   2.85   5.85  -1.15   2.85  -1.15   1.85  -1.15   0.85  -1.15  ...   \n",
       "\n",
       "   t191  t192  t193  t194  t195  t196  t197  t198  t199  Classes  \n",
       "0  1.00 -1.00  1.00 -1.00  1.00  0.00  1.00  0.00  0.00        1  \n",
       "1 -1.00  1.00  0.00  1.00 -1.00  0.00 -1.00  1.00  0.00        1  \n",
       "2 -0.55  0.45 -0.55  0.45 -0.55  0.45 -0.55  0.45 -0.55        1  \n",
       "3 -0.70  0.30 -0.70  0.30 -0.70  1.30 -0.70  1.30 -0.70        1  \n",
       "4 -0.15  0.85 -1.15 -0.15 -1.15  0.85 -0.15  0.85 -0.15        2  \n",
       "\n",
       "[5 rows x 201 columns]"
      ]
     },
     "execution_count": 2,
     "metadata": {},
     "output_type": "execute_result"
    }
   ],
   "source": [
    "df= pd.read_csv(\"db.csv\")\n",
    "df.head()"
   ]
  },
  {
   "cell_type": "markdown",
   "metadata": {},
   "source": [
    "Usando a biblioteca ```datle``` para ter uma visualização mais ampla dos dados."
   ]
  },
  {
   "cell_type": "code",
   "execution_count": 3,
   "metadata": {},
   "outputs": [
    {
     "name": "stderr",
     "output_type": "stream",
     "text": [
      "2021-05-27 10:54:29,089 - INFO     - NumExpr defaulting to 8 threads.\n"
     ]
    },
    {
     "data": {
      "text/html": [
       "\n",
       "        <iframe\n",
       "            width=\"100%\"\n",
       "            height=\"475\"\n",
       "            src=\"http://Edlaine:40000/dtale/iframe/1\"\n",
       "            frameborder=\"0\"\n",
       "            allowfullscreen\n",
       "        ></iframe>\n",
       "        "
      ],
      "text/plain": [
       "<IPython.lib.display.IFrame at 0x215f912f910>"
      ]
     },
     "metadata": {},
     "output_type": "display_data"
    },
    {
     "data": {
      "text/plain": []
     },
     "execution_count": 3,
     "metadata": {},
     "output_type": "execute_result"
    }
   ],
   "source": [
    "dtale.show(df)"
   ]
  },
  {
   "cell_type": "code",
   "execution_count": 3,
   "metadata": {},
   "outputs": [
    {
     "data": {
      "text/plain": [
       "(100, 201)"
      ]
     },
     "execution_count": 3,
     "metadata": {},
     "output_type": "execute_result"
    }
   ],
   "source": [
    "df.shape"
   ]
  },
  {
   "cell_type": "code",
   "execution_count": 4,
   "metadata": {},
   "outputs": [
    {
     "data": {
      "text/html": [
       "<div>\n",
       "<style scoped>\n",
       "    .dataframe tbody tr th:only-of-type {\n",
       "        vertical-align: middle;\n",
       "    }\n",
       "\n",
       "    .dataframe tbody tr th {\n",
       "        vertical-align: top;\n",
       "    }\n",
       "\n",
       "    .dataframe thead th {\n",
       "        text-align: right;\n",
       "    }\n",
       "</style>\n",
       "<table border=\"1\" class=\"dataframe\">\n",
       "  <thead>\n",
       "    <tr style=\"text-align: right;\">\n",
       "      <th></th>\n",
       "      <th>t0</th>\n",
       "      <th>t1</th>\n",
       "      <th>t2</th>\n",
       "      <th>t3</th>\n",
       "      <th>t4</th>\n",
       "      <th>t5</th>\n",
       "      <th>t6</th>\n",
       "      <th>t7</th>\n",
       "      <th>t8</th>\n",
       "      <th>t9</th>\n",
       "      <th>...</th>\n",
       "      <th>t191</th>\n",
       "      <th>t192</th>\n",
       "      <th>t193</th>\n",
       "      <th>t194</th>\n",
       "      <th>t195</th>\n",
       "      <th>t196</th>\n",
       "      <th>t197</th>\n",
       "      <th>t198</th>\n",
       "      <th>t199</th>\n",
       "      <th>Classes</th>\n",
       "    </tr>\n",
       "  </thead>\n",
       "  <tbody>\n",
       "    <tr>\n",
       "      <th>count</th>\n",
       "      <td>100.000000</td>\n",
       "      <td>100.000000</td>\n",
       "      <td>100.000000</td>\n",
       "      <td>100.000000</td>\n",
       "      <td>100.000000</td>\n",
       "      <td>100.000000</td>\n",
       "      <td>100.000000</td>\n",
       "      <td>100.000000</td>\n",
       "      <td>100.000000</td>\n",
       "      <td>100.000000</td>\n",
       "      <td>...</td>\n",
       "      <td>100.000000</td>\n",
       "      <td>100.00000</td>\n",
       "      <td>100.000000</td>\n",
       "      <td>100.000000</td>\n",
       "      <td>100.000000</td>\n",
       "      <td>100.000000</td>\n",
       "      <td>100.00000</td>\n",
       "      <td>100.000000</td>\n",
       "      <td>100.000000</td>\n",
       "      <td>100.000000</td>\n",
       "    </tr>\n",
       "    <tr>\n",
       "      <th>mean</th>\n",
       "      <td>11.114000</td>\n",
       "      <td>7.974000</td>\n",
       "      <td>8.154000</td>\n",
       "      <td>7.334000</td>\n",
       "      <td>7.374000</td>\n",
       "      <td>6.834000</td>\n",
       "      <td>7.134000</td>\n",
       "      <td>6.874000</td>\n",
       "      <td>7.054000</td>\n",
       "      <td>6.594000</td>\n",
       "      <td>...</td>\n",
       "      <td>0.114000</td>\n",
       "      <td>-0.14600</td>\n",
       "      <td>-0.146000</td>\n",
       "      <td>0.154000</td>\n",
       "      <td>0.014000</td>\n",
       "      <td>0.374000</td>\n",
       "      <td>-0.20600</td>\n",
       "      <td>-0.146000</td>\n",
       "      <td>-0.186000</td>\n",
       "      <td>3.140000</td>\n",
       "    </tr>\n",
       "    <tr>\n",
       "      <th>std</th>\n",
       "      <td>10.187807</td>\n",
       "      <td>9.012776</td>\n",
       "      <td>8.899937</td>\n",
       "      <td>8.958318</td>\n",
       "      <td>8.458134</td>\n",
       "      <td>8.301816</td>\n",
       "      <td>8.230796</td>\n",
       "      <td>8.317599</td>\n",
       "      <td>8.269182</td>\n",
       "      <td>7.937996</td>\n",
       "      <td>...</td>\n",
       "      <td>2.253057</td>\n",
       "      <td>0.86292</td>\n",
       "      <td>0.829497</td>\n",
       "      <td>1.009442</td>\n",
       "      <td>1.114779</td>\n",
       "      <td>0.969548</td>\n",
       "      <td>0.78757</td>\n",
       "      <td>1.046004</td>\n",
       "      <td>0.838411</td>\n",
       "      <td>1.608186</td>\n",
       "    </tr>\n",
       "    <tr>\n",
       "      <th>min</th>\n",
       "      <td>-10.150000</td>\n",
       "      <td>-6.300000</td>\n",
       "      <td>-6.300000</td>\n",
       "      <td>-6.300000</td>\n",
       "      <td>-5.300000</td>\n",
       "      <td>-3.500000</td>\n",
       "      <td>-4.300000</td>\n",
       "      <td>-6.300000</td>\n",
       "      <td>-6.300000</td>\n",
       "      <td>-4.300000</td>\n",
       "      <td>...</td>\n",
       "      <td>-2.500000</td>\n",
       "      <td>-2.40000</td>\n",
       "      <td>-2.050000</td>\n",
       "      <td>-2.500000</td>\n",
       "      <td>-2.150000</td>\n",
       "      <td>-2.500000</td>\n",
       "      <td>-2.30000</td>\n",
       "      <td>-2.500000</td>\n",
       "      <td>-2.050000</td>\n",
       "      <td>1.000000</td>\n",
       "    </tr>\n",
       "    <tr>\n",
       "      <th>25%</th>\n",
       "      <td>0.650000</td>\n",
       "      <td>0.450000</td>\n",
       "      <td>0.700000</td>\n",
       "      <td>0.450000</td>\n",
       "      <td>0.650000</td>\n",
       "      <td>0.450000</td>\n",
       "      <td>0.600000</td>\n",
       "      <td>0.850000</td>\n",
       "      <td>0.650000</td>\n",
       "      <td>0.650000</td>\n",
       "      <td>...</td>\n",
       "      <td>-0.700000</td>\n",
       "      <td>-0.75000</td>\n",
       "      <td>-0.700000</td>\n",
       "      <td>-0.550000</td>\n",
       "      <td>-0.800000</td>\n",
       "      <td>-0.100000</td>\n",
       "      <td>-0.70000</td>\n",
       "      <td>-0.750000</td>\n",
       "      <td>-0.700000</td>\n",
       "      <td>2.000000</td>\n",
       "    </tr>\n",
       "    <tr>\n",
       "      <th>50%</th>\n",
       "      <td>11.925000</td>\n",
       "      <td>5.575000</td>\n",
       "      <td>4.950000</td>\n",
       "      <td>4.300000</td>\n",
       "      <td>3.600000</td>\n",
       "      <td>3.050000</td>\n",
       "      <td>3.300000</td>\n",
       "      <td>3.325000</td>\n",
       "      <td>3.225000</td>\n",
       "      <td>3.850000</td>\n",
       "      <td>...</td>\n",
       "      <td>-0.300000</td>\n",
       "      <td>-0.07500</td>\n",
       "      <td>-0.200000</td>\n",
       "      <td>0.275000</td>\n",
       "      <td>-0.075000</td>\n",
       "      <td>0.400000</td>\n",
       "      <td>-0.32500</td>\n",
       "      <td>-0.025000</td>\n",
       "      <td>-0.275000</td>\n",
       "      <td>3.000000</td>\n",
       "    </tr>\n",
       "    <tr>\n",
       "      <th>75%</th>\n",
       "      <td>21.250000</td>\n",
       "      <td>14.900000</td>\n",
       "      <td>17.450000</td>\n",
       "      <td>16.950000</td>\n",
       "      <td>14.900000</td>\n",
       "      <td>13.000000</td>\n",
       "      <td>14.000000</td>\n",
       "      <td>13.000000</td>\n",
       "      <td>11.950000</td>\n",
       "      <td>10.950000</td>\n",
       "      <td>...</td>\n",
       "      <td>0.300000</td>\n",
       "      <td>0.45000</td>\n",
       "      <td>0.550000</td>\n",
       "      <td>0.700000</td>\n",
       "      <td>0.700000</td>\n",
       "      <td>0.850000</td>\n",
       "      <td>0.35000</td>\n",
       "      <td>0.450000</td>\n",
       "      <td>0.250000</td>\n",
       "      <td>4.000000</td>\n",
       "    </tr>\n",
       "    <tr>\n",
       "      <th>max</th>\n",
       "      <td>25.850000</td>\n",
       "      <td>25.450000</td>\n",
       "      <td>26.200000</td>\n",
       "      <td>25.200000</td>\n",
       "      <td>25.200000</td>\n",
       "      <td>25.000000</td>\n",
       "      <td>24.200000</td>\n",
       "      <td>25.200000</td>\n",
       "      <td>26.200000</td>\n",
       "      <td>25.200000</td>\n",
       "      <td>...</td>\n",
       "      <td>13.550000</td>\n",
       "      <td>1.70000</td>\n",
       "      <td>1.500000</td>\n",
       "      <td>2.650000</td>\n",
       "      <td>3.500000</td>\n",
       "      <td>3.800000</td>\n",
       "      <td>1.35000</td>\n",
       "      <td>1.850000</td>\n",
       "      <td>2.500000</td>\n",
       "      <td>7.000000</td>\n",
       "    </tr>\n",
       "  </tbody>\n",
       "</table>\n",
       "<p>8 rows × 201 columns</p>\n",
       "</div>"
      ],
      "text/plain": [
       "               t0          t1          t2          t3          t4          t5  \\\n",
       "count  100.000000  100.000000  100.000000  100.000000  100.000000  100.000000   \n",
       "mean    11.114000    7.974000    8.154000    7.334000    7.374000    6.834000   \n",
       "std     10.187807    9.012776    8.899937    8.958318    8.458134    8.301816   \n",
       "min    -10.150000   -6.300000   -6.300000   -6.300000   -5.300000   -3.500000   \n",
       "25%      0.650000    0.450000    0.700000    0.450000    0.650000    0.450000   \n",
       "50%     11.925000    5.575000    4.950000    4.300000    3.600000    3.050000   \n",
       "75%     21.250000   14.900000   17.450000   16.950000   14.900000   13.000000   \n",
       "max     25.850000   25.450000   26.200000   25.200000   25.200000   25.000000   \n",
       "\n",
       "               t6          t7          t8          t9  ...        t191  \\\n",
       "count  100.000000  100.000000  100.000000  100.000000  ...  100.000000   \n",
       "mean     7.134000    6.874000    7.054000    6.594000  ...    0.114000   \n",
       "std      8.230796    8.317599    8.269182    7.937996  ...    2.253057   \n",
       "min     -4.300000   -6.300000   -6.300000   -4.300000  ...   -2.500000   \n",
       "25%      0.600000    0.850000    0.650000    0.650000  ...   -0.700000   \n",
       "50%      3.300000    3.325000    3.225000    3.850000  ...   -0.300000   \n",
       "75%     14.000000   13.000000   11.950000   10.950000  ...    0.300000   \n",
       "max     24.200000   25.200000   26.200000   25.200000  ...   13.550000   \n",
       "\n",
       "            t192        t193        t194        t195        t196       t197  \\\n",
       "count  100.00000  100.000000  100.000000  100.000000  100.000000  100.00000   \n",
       "mean    -0.14600   -0.146000    0.154000    0.014000    0.374000   -0.20600   \n",
       "std      0.86292    0.829497    1.009442    1.114779    0.969548    0.78757   \n",
       "min     -2.40000   -2.050000   -2.500000   -2.150000   -2.500000   -2.30000   \n",
       "25%     -0.75000   -0.700000   -0.550000   -0.800000   -0.100000   -0.70000   \n",
       "50%     -0.07500   -0.200000    0.275000   -0.075000    0.400000   -0.32500   \n",
       "75%      0.45000    0.550000    0.700000    0.700000    0.850000    0.35000   \n",
       "max      1.70000    1.500000    2.650000    3.500000    3.800000    1.35000   \n",
       "\n",
       "             t198        t199     Classes  \n",
       "count  100.000000  100.000000  100.000000  \n",
       "mean    -0.146000   -0.186000    3.140000  \n",
       "std      1.046004    0.838411    1.608186  \n",
       "min     -2.500000   -2.050000    1.000000  \n",
       "25%     -0.750000   -0.700000    2.000000  \n",
       "50%     -0.025000   -0.275000    3.000000  \n",
       "75%      0.450000    0.250000    4.000000  \n",
       "max      1.850000    2.500000    7.000000  \n",
       "\n",
       "[8 rows x 201 columns]"
      ]
     },
     "execution_count": 4,
     "metadata": {},
     "output_type": "execute_result"
    }
   ],
   "source": [
    "df.describe()"
   ]
  },
  {
   "cell_type": "markdown",
   "metadata": {},
   "source": [
    "###  Verficar valores nulos "
   ]
  },
  {
   "cell_type": "code",
   "execution_count": 5,
   "metadata": {},
   "outputs": [
    {
     "data": {
      "text/plain": [
       "t0         0\n",
       "t1         0\n",
       "t2         0\n",
       "t3         0\n",
       "t4         0\n",
       "          ..\n",
       "t196       0\n",
       "t197       0\n",
       "t198       0\n",
       "t199       0\n",
       "Classes    0\n",
       "Length: 201, dtype: int64"
      ]
     },
     "execution_count": 5,
     "metadata": {},
     "output_type": "execute_result"
    }
   ],
   "source": [
    "df.isnull().sum()"
   ]
  },
  {
   "cell_type": "code",
   "execution_count": 6,
   "metadata": {},
   "outputs": [
    {
     "data": {
      "text/plain": [
       "t0         float64\n",
       "t1         float64\n",
       "t2         float64\n",
       "t3         float64\n",
       "t4         float64\n",
       "            ...   \n",
       "t196       float64\n",
       "t197       float64\n",
       "t198       float64\n",
       "t199       float64\n",
       "Classes      int64\n",
       "Length: 201, dtype: object"
      ]
     },
     "execution_count": 6,
     "metadata": {},
     "output_type": "execute_result"
    }
   ],
   "source": [
    "df.dtypes"
   ]
  },
  {
   "cell_type": "markdown",
   "metadata": {},
   "source": [
    "###  Preparando os dados para visualização "
   ]
  },
  {
   "cell_type": "markdown",
   "metadata": {},
   "source": [
    "Cada classe contém um quantidade de aparelhos eletrodomésticos que transmitem sinais obtidos em uma janela de 2s ao se ligar equipamento) e que foram rotulados em 7 diferentes classes."
   ]
  },
  {
   "cell_type": "code",
   "execution_count": 7,
   "metadata": {},
   "outputs": [
    {
     "data": {
      "text/plain": [
       "3    30\n",
       "2    22\n",
       "5    16\n",
       "1    16\n",
       "4     8\n",
       "7     4\n",
       "6     4\n",
       "Name: Classes, dtype: int64"
      ]
     },
     "execution_count": 7,
     "metadata": {},
     "output_type": "execute_result"
    }
   ],
   "source": [
    "df[\"Classes\"].value_counts()"
   ]
  },
  {
   "cell_type": "code",
   "execution_count": 8,
   "metadata": {},
   "outputs": [
    {
     "data": {
      "text/plain": [
       "Index(['t0', 't1', 't2', 't3', 't4', 't5', 't6', 't7', 't8', 't9',\n",
       "       ...\n",
       "       't191', 't192', 't193', 't194', 't195', 't196', 't197', 't198', 't199',\n",
       "       'Classes'],\n",
       "      dtype='object', length=201)"
      ]
     },
     "execution_count": 8,
     "metadata": {},
     "output_type": "execute_result"
    }
   ],
   "source": [
    "df.columns"
   ]
  },
  {
   "cell_type": "markdown",
   "metadata": {},
   "source": [
    "Renomeando as colunas para visualização "
   ]
  },
  {
   "cell_type": "code",
   "execution_count": 9,
   "metadata": {},
   "outputs": [
    {
     "data": {
      "text/plain": [
       "Index(['0', '1', '2', '3', '4', '5', '6', '7', '8', '9',\n",
       "       ...\n",
       "       '191', '192', '193', '194', '195', '196', '197', '198', '199',\n",
       "       'Classes'],\n",
       "      dtype='object', length=201)"
      ]
     },
     "execution_count": 9,
     "metadata": {},
     "output_type": "execute_result"
    }
   ],
   "source": [
    "df.columns = df.columns.str.replace('t', '') \n",
    "df.columns"
   ]
  },
  {
   "cell_type": "markdown",
   "metadata": {},
   "source": [
    "Será plotado um aparelho de cada classe, para visualizar seus registros ao longo do tempo. Foi escolhido o primeiro aparelho de cada classe."
   ]
  },
  {
   "cell_type": "markdown",
   "metadata": {},
   "source": [
    "Para visualização, foi selecionado o primeiro aparelho de cada uma das sete classes."
   ]
  },
  {
   "cell_type": "code",
   "execution_count": 10,
   "metadata": {},
   "outputs": [
    {
     "data": {
      "text/html": [
       "<div>\n",
       "<style scoped>\n",
       "    .dataframe tbody tr th:only-of-type {\n",
       "        vertical-align: middle;\n",
       "    }\n",
       "\n",
       "    .dataframe tbody tr th {\n",
       "        vertical-align: top;\n",
       "    }\n",
       "\n",
       "    .dataframe thead th {\n",
       "        text-align: right;\n",
       "    }\n",
       "</style>\n",
       "<table border=\"1\" class=\"dataframe\">\n",
       "  <thead>\n",
       "    <tr style=\"text-align: right;\">\n",
       "      <th></th>\n",
       "      <th>Classe1</th>\n",
       "      <th>Classe2</th>\n",
       "      <th>Classe3</th>\n",
       "      <th>Classe4</th>\n",
       "      <th>Classe5</th>\n",
       "      <th>Classe6</th>\n",
       "      <th>Classe7</th>\n",
       "    </tr>\n",
       "  </thead>\n",
       "  <tbody>\n",
       "    <tr>\n",
       "      <th>0</th>\n",
       "      <td>24.0</td>\n",
       "      <td>24.85</td>\n",
       "      <td>14.3</td>\n",
       "      <td>9.65</td>\n",
       "      <td>14.35</td>\n",
       "      <td>11.55</td>\n",
       "      <td>-5.3</td>\n",
       "    </tr>\n",
       "    <tr>\n",
       "      <th>1</th>\n",
       "      <td>24.0</td>\n",
       "      <td>2.85</td>\n",
       "      <td>11.3</td>\n",
       "      <td>-1.35</td>\n",
       "      <td>10.35</td>\n",
       "      <td>5.55</td>\n",
       "      <td>-6.3</td>\n",
       "    </tr>\n",
       "    <tr>\n",
       "      <th>2</th>\n",
       "      <td>23.0</td>\n",
       "      <td>5.85</td>\n",
       "      <td>8.3</td>\n",
       "      <td>2.65</td>\n",
       "      <td>5.35</td>\n",
       "      <td>2.55</td>\n",
       "      <td>-6.3</td>\n",
       "    </tr>\n",
       "    <tr>\n",
       "      <th>3</th>\n",
       "      <td>25.0</td>\n",
       "      <td>-1.15</td>\n",
       "      <td>8.3</td>\n",
       "      <td>-1.35</td>\n",
       "      <td>4.35</td>\n",
       "      <td>1.55</td>\n",
       "      <td>-6.3</td>\n",
       "    </tr>\n",
       "    <tr>\n",
       "      <th>4</th>\n",
       "      <td>24.0</td>\n",
       "      <td>2.85</td>\n",
       "      <td>8.3</td>\n",
       "      <td>0.65</td>\n",
       "      <td>3.35</td>\n",
       "      <td>0.55</td>\n",
       "      <td>-5.3</td>\n",
       "    </tr>\n",
       "  </tbody>\n",
       "</table>\n",
       "</div>"
      ],
      "text/plain": [
       "   Classe1  Classe2  Classe3  Classe4  Classe5  Classe6  Classe7\n",
       "0     24.0    24.85     14.3     9.65    14.35    11.55     -5.3\n",
       "1     24.0     2.85     11.3    -1.35    10.35     5.55     -6.3\n",
       "2     23.0     5.85      8.3     2.65     5.35     2.55     -6.3\n",
       "3     25.0    -1.15      8.3    -1.35     4.35     1.55     -6.3\n",
       "4     24.0     2.85      8.3     0.65     3.35     0.55     -5.3"
      ]
     },
     "execution_count": 10,
     "metadata": {},
     "output_type": "execute_result"
    }
   ],
   "source": [
    "df1=df[df[\"Classes\"]==1].iloc[0]\n",
    "df2=df[df[\"Classes\"]==2].iloc[0]\n",
    "df3=df[df[\"Classes\"]==3].iloc[0]\n",
    "df4=df[df[\"Classes\"]==4].iloc[0]\n",
    "df5=df[df[\"Classes\"]==5].iloc[0]\n",
    "df6=df[df[\"Classes\"]==6].iloc[0]\n",
    "df7=df[df[\"Classes\"]==7].iloc[0]\n",
    "\n",
    "# Criando um Dataframe\n",
    "\n",
    "df_new=pd.DataFrame({ 'Classe1':df1,'Classe2':df2,'Classe3':df3,'Classe4':df4,\n",
    "                     'Classe5':df5,'Classe6':df6,'Classe7':df7})\n",
    "\n",
    "df_new.head()"
   ]
  },
  {
   "cell_type": "markdown",
   "metadata": {},
   "source": [
    "## Vizualização das classes <a name=\"classes\"></a> "
   ]
  },
  {
   "cell_type": "markdown",
   "metadata": {},
   "source": [
    "#### Visualizando Individualmente "
   ]
  },
  {
   "cell_type": "code",
   "execution_count": 11,
   "metadata": {},
   "outputs": [
    {
     "data": {
      "image/png": "[encoded data removed]",
      "text/plain": [
       "<Figure size 4000x1440 with 1 Axes>"
      ]
     },
     "metadata": {},
     "output_type": "display_data"
    }
   ],
   "source": [
    "# Visualizar apenas um\n",
    "plt.style.use('classic')\n",
    "figure= plt.figure(figsize=(600,15))\n",
    "plt.subplot(4,4,1)\n",
    "plt.plot(df[df[\"Classes\"]==1].iloc[0])\n",
    "plt.xlabel('Tempo em segundos')\n",
    "plt.ylabel('Sinais Obtidos')\n",
    "plt.gcf().set_size_inches(50, 18) # alterar tamanho\n",
    "plt.xticks(range(0, 200,25)) # mudar escala do eixo X\n",
    "plt.show()\n"
   ]
  },
  {
   "cell_type": "markdown",
   "metadata": {},
   "source": [
    "#### Visualizando as sete classes"
   ]
  },
  {
   "cell_type": "code",
   "execution_count": 13,
   "metadata": {},
   "outputs": [
    {
     "data": {
      "image/png": "[encoded data removed]",
      "text/plain": [
       "<Figure size 960x880 with 7 Axes>"
      ]
     },
     "metadata": {},
     "output_type": "display_data"
    }
   ],
   "source": [
    "# Plotting average venues per cluster\n",
    "#plt.style.use('classic')\n",
    "axes = df_new.plot.line(rot=0, subplots=True)\n",
    "#axes[1].legend(loc=0)\n",
    "plt.rcParams['figure.figsize'] = [12, 11]\n",
    "plt.show()\n",
    "plt.rc('axes', titlesize=11)\n",
    "plt.rc('xtick', labelsize=11)    # fontsize of the tick labels\n",
    "plt.rc('ytick', labelsize=10)\n",
    "plt.rc('legend', fontsize=11)\n",
    "\n",
    "plt.show()"
   ]
  },
  {
   "cell_type": "markdown",
   "metadata": {},
   "source": [
    "## 3. Transformação Multilabels<a name=\"label\"></a>"
   ]
  },
  {
   "cell_type": "markdown",
   "metadata": {},
   "source": [
    "Como é um problema muticlasse, o aluno deverá transformar os\n",
    "labels para uma representação correta."
   ]
  },
  {
   "cell_type": "code",
   "execution_count": 14,
   "metadata": {},
   "outputs": [
    {
     "data": {
      "text/html": [
       "<div>\n",
       "<style scoped>\n",
       "    .dataframe tbody tr th:only-of-type {\n",
       "        vertical-align: middle;\n",
       "    }\n",
       "\n",
       "    .dataframe tbody tr th {\n",
       "        vertical-align: top;\n",
       "    }\n",
       "\n",
       "    .dataframe thead th {\n",
       "        text-align: right;\n",
       "    }\n",
       "</style>\n",
       "<table border=\"1\" class=\"dataframe\">\n",
       "  <thead>\n",
       "    <tr style=\"text-align: right;\">\n",
       "      <th></th>\n",
       "      <th>0</th>\n",
       "      <th>1</th>\n",
       "      <th>2</th>\n",
       "      <th>3</th>\n",
       "      <th>4</th>\n",
       "      <th>5</th>\n",
       "      <th>6</th>\n",
       "      <th>7</th>\n",
       "      <th>8</th>\n",
       "      <th>9</th>\n",
       "      <th>...</th>\n",
       "      <th>197</th>\n",
       "      <th>198</th>\n",
       "      <th>199</th>\n",
       "      <th>1</th>\n",
       "      <th>2</th>\n",
       "      <th>3</th>\n",
       "      <th>4</th>\n",
       "      <th>5</th>\n",
       "      <th>6</th>\n",
       "      <th>7</th>\n",
       "    </tr>\n",
       "  </thead>\n",
       "  <tbody>\n",
       "    <tr>\n",
       "      <th>0</th>\n",
       "      <td>24.00</td>\n",
       "      <td>24.00</td>\n",
       "      <td>23.00</td>\n",
       "      <td>25.00</td>\n",
       "      <td>24.00</td>\n",
       "      <td>25.00</td>\n",
       "      <td>24.00</td>\n",
       "      <td>24.00</td>\n",
       "      <td>22.00</td>\n",
       "      <td>25.00</td>\n",
       "      <td>...</td>\n",
       "      <td>1.00</td>\n",
       "      <td>0.00</td>\n",
       "      <td>0.00</td>\n",
       "      <td>1</td>\n",
       "      <td>0</td>\n",
       "      <td>0</td>\n",
       "      <td>0</td>\n",
       "      <td>0</td>\n",
       "      <td>0</td>\n",
       "      <td>0</td>\n",
       "    </tr>\n",
       "    <tr>\n",
       "      <th>1</th>\n",
       "      <td>23.00</td>\n",
       "      <td>23.00</td>\n",
       "      <td>22.00</td>\n",
       "      <td>21.00</td>\n",
       "      <td>21.00</td>\n",
       "      <td>22.00</td>\n",
       "      <td>23.00</td>\n",
       "      <td>23.00</td>\n",
       "      <td>22.00</td>\n",
       "      <td>21.00</td>\n",
       "      <td>...</td>\n",
       "      <td>-1.00</td>\n",
       "      <td>1.00</td>\n",
       "      <td>0.00</td>\n",
       "      <td>1</td>\n",
       "      <td>0</td>\n",
       "      <td>0</td>\n",
       "      <td>0</td>\n",
       "      <td>0</td>\n",
       "      <td>0</td>\n",
       "      <td>0</td>\n",
       "    </tr>\n",
       "    <tr>\n",
       "      <th>2</th>\n",
       "      <td>-0.55</td>\n",
       "      <td>-0.55</td>\n",
       "      <td>-0.55</td>\n",
       "      <td>3.45</td>\n",
       "      <td>13.45</td>\n",
       "      <td>11.45</td>\n",
       "      <td>18.45</td>\n",
       "      <td>18.45</td>\n",
       "      <td>20.45</td>\n",
       "      <td>20.45</td>\n",
       "      <td>...</td>\n",
       "      <td>-0.55</td>\n",
       "      <td>0.45</td>\n",
       "      <td>-0.55</td>\n",
       "      <td>1</td>\n",
       "      <td>0</td>\n",
       "      <td>0</td>\n",
       "      <td>0</td>\n",
       "      <td>0</td>\n",
       "      <td>0</td>\n",
       "      <td>0</td>\n",
       "    </tr>\n",
       "    <tr>\n",
       "      <th>3</th>\n",
       "      <td>12.30</td>\n",
       "      <td>10.30</td>\n",
       "      <td>15.30</td>\n",
       "      <td>15.30</td>\n",
       "      <td>16.30</td>\n",
       "      <td>15.30</td>\n",
       "      <td>17.30</td>\n",
       "      <td>16.30</td>\n",
       "      <td>17.30</td>\n",
       "      <td>15.30</td>\n",
       "      <td>...</td>\n",
       "      <td>-0.70</td>\n",
       "      <td>1.30</td>\n",
       "      <td>-0.70</td>\n",
       "      <td>1</td>\n",
       "      <td>0</td>\n",
       "      <td>0</td>\n",
       "      <td>0</td>\n",
       "      <td>0</td>\n",
       "      <td>0</td>\n",
       "      <td>0</td>\n",
       "    </tr>\n",
       "    <tr>\n",
       "      <th>4</th>\n",
       "      <td>24.85</td>\n",
       "      <td>2.85</td>\n",
       "      <td>5.85</td>\n",
       "      <td>-1.15</td>\n",
       "      <td>2.85</td>\n",
       "      <td>-1.15</td>\n",
       "      <td>1.85</td>\n",
       "      <td>-1.15</td>\n",
       "      <td>0.85</td>\n",
       "      <td>-1.15</td>\n",
       "      <td>...</td>\n",
       "      <td>-0.15</td>\n",
       "      <td>0.85</td>\n",
       "      <td>-0.15</td>\n",
       "      <td>0</td>\n",
       "      <td>1</td>\n",
       "      <td>0</td>\n",
       "      <td>0</td>\n",
       "      <td>0</td>\n",
       "      <td>0</td>\n",
       "      <td>0</td>\n",
       "    </tr>\n",
       "    <tr>\n",
       "      <th>...</th>\n",
       "      <td>...</td>\n",
       "      <td>...</td>\n",
       "      <td>...</td>\n",
       "      <td>...</td>\n",
       "      <td>...</td>\n",
       "      <td>...</td>\n",
       "      <td>...</td>\n",
       "      <td>...</td>\n",
       "      <td>...</td>\n",
       "      <td>...</td>\n",
       "      <td>...</td>\n",
       "      <td>...</td>\n",
       "      <td>...</td>\n",
       "      <td>...</td>\n",
       "      <td>...</td>\n",
       "      <td>...</td>\n",
       "      <td>...</td>\n",
       "      <td>...</td>\n",
       "      <td>...</td>\n",
       "      <td>...</td>\n",
       "      <td>...</td>\n",
       "    </tr>\n",
       "    <tr>\n",
       "      <th>95</th>\n",
       "      <td>14.70</td>\n",
       "      <td>4.70</td>\n",
       "      <td>2.70</td>\n",
       "      <td>-0.30</td>\n",
       "      <td>0.70</td>\n",
       "      <td>0.70</td>\n",
       "      <td>2.70</td>\n",
       "      <td>1.70</td>\n",
       "      <td>1.70</td>\n",
       "      <td>0.70</td>\n",
       "      <td>...</td>\n",
       "      <td>-1.30</td>\n",
       "      <td>-1.30</td>\n",
       "      <td>-0.30</td>\n",
       "      <td>0</td>\n",
       "      <td>0</td>\n",
       "      <td>0</td>\n",
       "      <td>0</td>\n",
       "      <td>1</td>\n",
       "      <td>0</td>\n",
       "      <td>0</td>\n",
       "    </tr>\n",
       "    <tr>\n",
       "      <th>96</th>\n",
       "      <td>11.55</td>\n",
       "      <td>5.55</td>\n",
       "      <td>2.55</td>\n",
       "      <td>1.55</td>\n",
       "      <td>0.55</td>\n",
       "      <td>1.55</td>\n",
       "      <td>0.55</td>\n",
       "      <td>0.55</td>\n",
       "      <td>-0.45</td>\n",
       "      <td>0.55</td>\n",
       "      <td>...</td>\n",
       "      <td>0.55</td>\n",
       "      <td>-0.45</td>\n",
       "      <td>0.55</td>\n",
       "      <td>0</td>\n",
       "      <td>0</td>\n",
       "      <td>0</td>\n",
       "      <td>0</td>\n",
       "      <td>0</td>\n",
       "      <td>1</td>\n",
       "      <td>0</td>\n",
       "    </tr>\n",
       "    <tr>\n",
       "      <th>97</th>\n",
       "      <td>14.35</td>\n",
       "      <td>4.35</td>\n",
       "      <td>1.35</td>\n",
       "      <td>2.35</td>\n",
       "      <td>-0.65</td>\n",
       "      <td>0.35</td>\n",
       "      <td>0.35</td>\n",
       "      <td>1.35</td>\n",
       "      <td>0.35</td>\n",
       "      <td>0.35</td>\n",
       "      <td>...</td>\n",
       "      <td>0.35</td>\n",
       "      <td>0.35</td>\n",
       "      <td>-0.65</td>\n",
       "      <td>0</td>\n",
       "      <td>0</td>\n",
       "      <td>0</td>\n",
       "      <td>0</td>\n",
       "      <td>0</td>\n",
       "      <td>1</td>\n",
       "      <td>0</td>\n",
       "    </tr>\n",
       "    <tr>\n",
       "      <th>98</th>\n",
       "      <td>22.70</td>\n",
       "      <td>-5.30</td>\n",
       "      <td>-0.30</td>\n",
       "      <td>-5.30</td>\n",
       "      <td>-1.30</td>\n",
       "      <td>-3.30</td>\n",
       "      <td>-1.30</td>\n",
       "      <td>-3.30</td>\n",
       "      <td>-2.30</td>\n",
       "      <td>-3.30</td>\n",
       "      <td>...</td>\n",
       "      <td>-2.30</td>\n",
       "      <td>0.70</td>\n",
       "      <td>-1.30</td>\n",
       "      <td>0</td>\n",
       "      <td>0</td>\n",
       "      <td>0</td>\n",
       "      <td>0</td>\n",
       "      <td>0</td>\n",
       "      <td>0</td>\n",
       "      <td>1</td>\n",
       "    </tr>\n",
       "    <tr>\n",
       "      <th>99</th>\n",
       "      <td>-5.30</td>\n",
       "      <td>-6.30</td>\n",
       "      <td>-6.30</td>\n",
       "      <td>-6.30</td>\n",
       "      <td>-5.30</td>\n",
       "      <td>-3.30</td>\n",
       "      <td>-4.30</td>\n",
       "      <td>-6.30</td>\n",
       "      <td>-6.30</td>\n",
       "      <td>-4.30</td>\n",
       "      <td>...</td>\n",
       "      <td>-0.30</td>\n",
       "      <td>-0.30</td>\n",
       "      <td>-0.30</td>\n",
       "      <td>0</td>\n",
       "      <td>0</td>\n",
       "      <td>0</td>\n",
       "      <td>0</td>\n",
       "      <td>0</td>\n",
       "      <td>0</td>\n",
       "      <td>1</td>\n",
       "    </tr>\n",
       "  </tbody>\n",
       "</table>\n",
       "<p>100 rows × 207 columns</p>\n",
       "</div>"
      ],
      "text/plain": [
       "        0      1      2      3      4      5      6      7      8      9  ...  \\\n",
       "0   24.00  24.00  23.00  25.00  24.00  25.00  24.00  24.00  22.00  25.00  ...   \n",
       "1   23.00  23.00  22.00  21.00  21.00  22.00  23.00  23.00  22.00  21.00  ...   \n",
       "2   -0.55  -0.55  -0.55   3.45  13.45  11.45  18.45  18.45  20.45  20.45  ...   \n",
       "3   12.30  10.30  15.30  15.30  16.30  15.30  17.30  16.30  17.30  15.30  ...   \n",
       "4   24.85   2.85   5.85  -1.15   2.85  -1.15   1.85  -1.15   0.85  -1.15  ...   \n",
       "..    ...    ...    ...    ...    ...    ...    ...    ...    ...    ...  ...   \n",
       "95  14.70   4.70   2.70  -0.30   0.70   0.70   2.70   1.70   1.70   0.70  ...   \n",
       "96  11.55   5.55   2.55   1.55   0.55   1.55   0.55   0.55  -0.45   0.55  ...   \n",
       "97  14.35   4.35   1.35   2.35  -0.65   0.35   0.35   1.35   0.35   0.35  ...   \n",
       "98  22.70  -5.30  -0.30  -5.30  -1.30  -3.30  -1.30  -3.30  -2.30  -3.30  ...   \n",
       "99  -5.30  -6.30  -6.30  -6.30  -5.30  -3.30  -4.30  -6.30  -6.30  -4.30  ...   \n",
       "\n",
       "     197   198   199  1  2  3  4  5  6  7  \n",
       "0   1.00  0.00  0.00  1  0  0  0  0  0  0  \n",
       "1  -1.00  1.00  0.00  1  0  0  0  0  0  0  \n",
       "2  -0.55  0.45 -0.55  1  0  0  0  0  0  0  \n",
       "3  -0.70  1.30 -0.70  1  0  0  0  0  0  0  \n",
       "4  -0.15  0.85 -0.15  0  1  0  0  0  0  0  \n",
       "..   ...   ...   ... .. .. .. .. .. .. ..  \n",
       "95 -1.30 -1.30 -0.30  0  0  0  0  1  0  0  \n",
       "96  0.55 -0.45  0.55  0  0  0  0  0  1  0  \n",
       "97  0.35  0.35 -0.65  0  0  0  0  0  1  0  \n",
       "98 -2.30  0.70 -1.30  0  0  0  0  0  0  1  \n",
       "99 -0.30 -0.30 -0.30  0  0  0  0  0  0  1  \n",
       "\n",
       "[100 rows x 207 columns]"
      ]
     },
     "execution_count": 14,
     "metadata": {},
     "output_type": "execute_result"
    }
   ],
   "source": [
    "dummy=pd.get_dummies(df['Classes'])\n",
    "df=pd.concat([df,dummy],axis=1)\n",
    "df.drop(\"Classes\",axis=1, inplace=True)\n",
    "df"
   ]
  },
  {
   "cell_type": "markdown",
   "metadata": {},
   "source": [
    "\n",
    "## 4. Preparação dos dados para Machine Learning<a name=\"preparacao\"></a>\n",
    "\n"
   ]
  },
  {
   "cell_type": "markdown",
   "metadata": {},
   "source": [
    "Esta etapa tem 3 processos\n",
    "\n",
    "- Definir as variáveis de entrada e saída \n",
    "- Separar em treino e teste \n",
    "- Normalizar os dados "
   ]
  },
  {
   "cell_type": "markdown",
   "metadata": {},
   "source": [
    "#### 1. Definir as variáveis de entrada e saída para o  modelo "
   ]
  },
  {
   "cell_type": "code",
   "execution_count": 15,
   "metadata": {},
   "outputs": [],
   "source": [
    "df_saida=df[[1,2,3,4,5,6,7]]\n",
    "df_entrada=df.drop([1,2,3,4,5,6,7],axis=1)\n"
   ]
  },
  {
   "cell_type": "markdown",
   "metadata": {},
   "source": [
    "#### 2. Separar  em Treino e Teste "
   ]
  },
  {
   "cell_type": "code",
   "execution_count": 16,
   "metadata": {},
   "outputs": [],
   "source": [
    "X_train, X_test, y_train, y_test = train_test_split(df_entrada, df_saida, test_size=0.3,\n",
    "                                                    stratify=df_saida)\n",
    "# Não tem validação por que é pequena a amostra\n",
    "\n",
    "#X_test, X_val, y_test, y_val=train_test_split(X_test, y_test, test_size=0.1,stratify=y_test)"
   ]
  },
  {
   "cell_type": "markdown",
   "metadata": {},
   "source": [
    "#### 3. Normalizar os Dados "
   ]
  },
  {
   "cell_type": "markdown",
   "metadata": {},
   "source": [
    "Ao escalonar, o fit no objeto criado para esse fim é apenas feito no treino, para que o objeto de escalonamento não aprenda características do teste, apenas do treino.\n",
    "\n",
    "Transforma os demais na mesma escala q foi fitado, não cria uma escala nova."
   ]
  },
  {
   "cell_type": "code",
   "execution_count": 17,
   "metadata": {},
   "outputs": [],
   "source": [
    "scaler = StandardScaler()\n",
    "\n",
    "# O fit é apenas no treino \n",
    "\n",
    "X_train = scaler.fit_transform(X_train)\n",
    "\n",
    "# No teste é apenas transformar \n",
    "\n",
    "X_test = scaler.transform(X_test)"
   ]
  },
  {
   "cell_type": "markdown",
   "metadata": {},
   "source": [
    "## Construindo o modelo de Rede Neural<a name=\"analysis\"></a>\n"
   ]
  },
  {
   "cell_type": "markdown",
   "metadata": {},
   "source": [
    " Será utlizado  para este processo o ```MLPClassifier``` do  sklearn.neural_network module includes models based on neural networks. [MLPClassifier]('https://scikit-learn.org/stable/modules/generated/sklearn.neural_network.MLPClassifier.html#sklearn.neural_network.MLPClassifier')\n",
    " "
   ]
  },
  {
   "cell_type": "markdown",
   "metadata": {},
   "source": [
    "Parâmetros :\n",
    "    \n",
    "a) Learning rate - taxa de aprendizado , fator que multiplica o gradiente (atualização dos pesos)\n",
    "achar os mínimos locais \n",
    "\n",
    "b) Hidden Size - número de neurônios na camada intermediária ; número de camadas\n",
    "\n",
    "c) Activation - função de mapeamento de cada neurônio\n",
    "\n",
    "d) early_stopping - se não há melhoria no conjunto de validação, ele para \n",
    "\n",
    "e) Epochs - época representa uma passada por todo o conjunto de treino\n",
    "\n",
    "e.1) Batch size - tamanho dos subconjuntos de treinos que serão apresentados à rede neural (Batelada) "
   ]
  },
  {
   "cell_type": "markdown",
   "metadata": {},
   "source": [
    "##### Usar o Grid Search para encontrar o melhor parâmetro para o modelo.\n",
    "Definindo os parâmetros, foram escolhidos algumas funções de ativação, como também outras de otimização"
   ]
  },
  {
   "cell_type": "code",
   "execution_count": 18,
   "metadata": {},
   "outputs": [],
   "source": [
    "parameters = {'hidden_layer_sizes': range(1,50,2),'activation':('identity','logistic', 'tanh','relu'),\n",
    "             'solver':('lbfgs', 'sgd', 'adam')}"
   ]
  },
  {
   "cell_type": "code",
   "execution_count": 19,
   "metadata": {},
   "outputs": [
    {
     "name": "stdout",
     "output_type": "stream",
     "text": [
      "MLPClassifier(activation='logistic', early_stopping=True, hidden_layer_sizes=49,\n",
      "              max_iter=10000, random_state=1, solver='lbfgs')\n"
     ]
    }
   ],
   "source": [
    "clfGrid=MLPClassifier(random_state=1,max_iter=10000, learning_rate_init = 0.001,\n",
    "                      verbose=False, validation_fraction=0.1,early_stopping=True)\n",
    "\n",
    "#Construindo o modelo com GridSearch\n",
    "\n",
    "GridModel=GridSearchCV(clfGrid,parameters)\n",
    "\n",
    "GridModel.fit(X_train, y_train)\n",
    "\n",
    "print(GridModel.best_estimator_)"
   ]
  },
  {
   "cell_type": "code",
   "execution_count": 21,
   "metadata": {},
   "outputs": [
    {
     "data": {
      "text/plain": [
       "MLPClassifier(activation='logistic', early_stopping=True, hidden_layer_sizes=49,\n",
       "              max_iter=10000, random_state=1, solver='lbfgs')"
      ]
     },
     "execution_count": 21,
     "metadata": {},
     "output_type": "execute_result"
    }
   ],
   "source": [
    "# Melhores parâmetros para o Modelo\n",
    "model=GridModel.best_estimator_\n",
    "\n",
    "model"
   ]
  },
  {
   "cell_type": "markdown",
   "metadata": {},
   "source": [
    "## Avaliação do modelo com o GridSearch <a name=\"results\"></a>"
   ]
  },
  {
   "cell_type": "code",
   "execution_count": 22,
   "metadata": {},
   "outputs": [
    {
     "data": {
      "text/plain": [
       "MLPClassifier(activation='logistic', early_stopping=True, hidden_layer_sizes=49,\n",
       "              max_iter=10000, random_state=1, solver='lbfgs')"
      ]
     },
     "execution_count": 22,
     "metadata": {},
     "output_type": "execute_result"
    }
   ],
   "source": [
    "model.fit(X_train, y_train)"
   ]
  },
  {
   "cell_type": "code",
   "execution_count": 23,
   "metadata": {},
   "outputs": [
    {
     "data": {
      "text/plain": [
       "1.0"
      ]
     },
     "execution_count": 23,
     "metadata": {},
     "output_type": "execute_result"
    }
   ],
   "source": [
    "model.score(X_train,y_train)"
   ]
  },
  {
   "cell_type": "code",
   "execution_count": 24,
   "metadata": {},
   "outputs": [
    {
     "data": {
      "text/plain": [
       "0.8"
      ]
     },
     "execution_count": 24,
     "metadata": {},
     "output_type": "execute_result"
    }
   ],
   "source": [
    "model.score(X_test,y_test)"
   ]
  },
  {
   "cell_type": "code",
   "execution_count": 25,
   "metadata": {},
   "outputs": [
    {
     "data": {
      "text/plain": [
       "array([0, 0, 0, 0, 0, 1, 0])"
      ]
     },
     "execution_count": 25,
     "metadata": {},
     "output_type": "execute_result"
    }
   ],
   "source": [
    "model.predict(X_test)[0]"
   ]
  },
  {
   "cell_type": "markdown",
   "metadata": {},
   "source": [
    "## PCA<a name=\"pca\"></a>"
   ]
  },
  {
   "cell_type": "markdown",
   "metadata": {},
   "source": [
    "Avaliar o usa de PCA (Análise de Componentes Principais) para visualização dos dados e também como speed-up da ML (para fins de classificação)."
   ]
  },
  {
   "cell_type": "code",
   "execution_count": 26,
   "metadata": {},
   "outputs": [],
   "source": [
    "pca = PCA().fit(X_train)"
   ]
  },
  {
   "cell_type": "code",
   "execution_count": 27,
   "metadata": {},
   "outputs": [
    {
     "data": {
      "image/png": "[encoded data removed]",
      "text/plain": [
       "<Figure size 640x480 with 1 Axes>"
      ]
     },
     "metadata": {},
     "output_type": "display_data"
    }
   ],
   "source": [
    "plt.figure(figsize = (8, 6))\n",
    "plt.grid()\n",
    "plt.plot(np.cumsum(pca.explained_variance_ratio_))\n",
    "plt.xlabel('number of components')\n",
    "plt.ylabel('cumulative explained variance');\n"
   ]
  },
  {
   "cell_type": "code",
   "execution_count": 28,
   "metadata": {},
   "outputs": [],
   "source": [
    "pca = PCA(n_components=0.88)\n",
    "pca.fit(X_train)\n",
    "X_pca_Train = pca.transform(X_train)"
   ]
  },
  {
   "cell_type": "code",
   "execution_count": 29,
   "metadata": {},
   "outputs": [
    {
     "name": "stdout",
     "output_type": "stream",
     "text": [
      "Original Model dimensionality: (70, 200)\n",
      "PCA Model dimensionality: (70, 13)\n"
     ]
    }
   ],
   "source": [
    "print(f'Original Model dimensionality: {X_train.shape}')\n",
    "print(f'PCA Model dimensionality: {X_pca_Train.shape}')"
   ]
  },
  {
   "cell_type": "markdown",
   "metadata": {},
   "source": [
    "### GridSerach para encontrar o melhor modelo depois do PCA"
   ]
  },
  {
   "cell_type": "code",
   "execution_count": 30,
   "metadata": {},
   "outputs": [
    {
     "name": "stdout",
     "output_type": "stream",
     "text": [
      "MLPClassifier(activation='logistic', early_stopping=True, hidden_layer_sizes=33,\n",
      "              max_iter=10000, random_state=1, solver='lbfgs')\n"
     ]
    }
   ],
   "source": [
    "clf_grid_PCA = MLPClassifier(random_state=1,max_iter=10000,validation_fraction=0.1,early_stopping=True,verbose=False)\n",
    "\n",
    "gridmodel_PCA = GridSearchCV(clf_grid_PCA, parameters)\n",
    "\n",
    "gridmodel_PCA.fit(X_pca_Train, y_train)\n",
    "\n",
    "print(gridmodel_PCA.best_estimator_)"
   ]
  },
  {
   "cell_type": "code",
   "execution_count": 31,
   "metadata": {},
   "outputs": [
    {
     "data": {
      "text/plain": [
       "MLPClassifier(activation='logistic', early_stopping=True, hidden_layer_sizes=33,\n",
       "              max_iter=10000, random_state=1, solver='lbfgs')"
      ]
     },
     "execution_count": 31,
     "metadata": {},
     "output_type": "execute_result"
    }
   ],
   "source": [
    "# Melhores parâmetros para o Modelo\n",
    "model_PCA = gridmodel_PCA.best_estimator_\n",
    "\n",
    "model_PCA"
   ]
  },
  {
   "cell_type": "markdown",
   "metadata": {},
   "source": [
    "Retorno do modelo com GRidSearch com o PCA e sem PCA, para verificar se houve uma mudança na construção do modelo."
   ]
  },
  {
   "cell_type": "code",
   "execution_count": 32,
   "metadata": {},
   "outputs": [
    {
     "name": "stdout",
     "output_type": "stream",
     "text": [
      "Sem PCA:\n",
      " \n",
      " MLPClassifier(activation='logistic', early_stopping=True, hidden_layer_sizes=49,\n",
      "              max_iter=10000, random_state=1, solver='lbfgs') \n",
      "\n",
      "------------------\n",
      "Com PCA: \n",
      " \n",
      " MLPClassifier(activation='logistic', early_stopping=True, hidden_layer_sizes=33,\n",
      "              max_iter=10000, random_state=1, solver='lbfgs') \n",
      "\n"
     ]
    }
   ],
   "source": [
    "print(\"Sem PCA:\\n\" ,\"\\n\",model,\"\\n\")\n",
    "print(\"------------------\")\n",
    "print(\"Com PCA: \\n\" ,\"\\n\",model_PCA,\"\\n\")"
   ]
  },
  {
   "cell_type": "markdown",
   "metadata": {},
   "source": [
    " >Conforme observado o número de número de neurônios ```hidden_layer_sizes``` mudou,  o que alterou  o valor da acurácia na execução do  modelo mais adiante."
   ]
  },
  {
   "cell_type": "markdown",
   "metadata": {},
   "source": [
    "### Usando o modelo com PCA"
   ]
  },
  {
   "cell_type": "code",
   "execution_count": 33,
   "metadata": {},
   "outputs": [
    {
     "data": {
      "text/plain": [
       "MLPClassifier(activation='logistic', early_stopping=True, hidden_layer_sizes=33,\n",
       "              max_iter=10000, random_state=1, solver='lbfgs')"
      ]
     },
     "execution_count": 33,
     "metadata": {},
     "output_type": "execute_result"
    }
   ],
   "source": [
    "#model= MLPClassifier(activation='logistic', early_stopping=True, hidden_layer_sizes=27,\n",
    "              #max_iter=10000, random_state=1, solver='lbfgs', verbose=True)\n",
    "\n",
    "model_PCA.fit(X_pca_Train, y_train)"
   ]
  },
  {
   "cell_type": "code",
   "execution_count": 34,
   "metadata": {},
   "outputs": [
    {
     "data": {
      "text/plain": [
       "array([0, 0, 0, 0, 0, 1, 0])"
      ]
     },
     "execution_count": 34,
     "metadata": {},
     "output_type": "execute_result"
    }
   ],
   "source": [
    "model_PCA.predict(pca.transform(X_test))[0]"
   ]
  },
  {
   "cell_type": "markdown",
   "metadata": {},
   "source": [
    "## Avaliando o modelo  Sem PCA"
   ]
  },
  {
   "cell_type": "code",
   "execution_count": 35,
   "metadata": {},
   "outputs": [
    {
     "name": "stdout",
     "output_type": "stream",
     "text": [
      "****** Sem PCA  ******\n",
      "Treino: 1.0\n",
      "Teste: 0.8\n"
     ]
    }
   ],
   "source": [
    "print('****** Sem PCA  ******')\n",
    "\n",
    "print(\"Treino:\",model.score(X_train,y_train))\n",
    "\n",
    "print(\"Teste:\",model.score(X_test,y_test))\n"
   ]
  },
  {
   "cell_type": "code",
   "execution_count": 36,
   "metadata": {},
   "outputs": [
    {
     "name": "stdout",
     "output_type": "stream",
     "text": [
      "****** Sem PCA Model Results ******\n",
      "Accuracy:  0.8\n",
      "                 precision    recall  f1-score   support\n",
      "\n",
      "[0 0 0 0 0 0 0]       0.00      0.00      0.00         0\n",
      "[0 0 0 0 0 0 1]       1.00      1.00      1.00         1\n",
      "[0 0 0 0 0 1 0]       1.00      1.00      1.00         1\n",
      "[0 0 0 0 1 0 0]       0.60      0.60      0.60         5\n",
      "[0 0 0 1 0 0 0]       1.00      1.00      1.00         2\n",
      "[0 0 1 0 0 0 0]       1.00      0.78      0.88         9\n",
      "[0 1 0 0 0 0 0]       1.00      0.71      0.83         7\n",
      "[1 0 0 0 0 0 0]       0.71      1.00      0.83         5\n",
      "\n",
      "       accuracy                           0.80        30\n",
      "      macro avg       0.79      0.76      0.77        30\n",
      "   weighted avg       0.89      0.80      0.83        30\n",
      "\n"
     ]
    }
   ],
   "source": [
    "y_pred = model.predict(X_test)\n",
    "y_real = y_test.to_numpy()\n",
    "\n",
    "ytrue = []\n",
    "yhat = []\n",
    "\n",
    "for n in y_real:\n",
    "    ytrue.append(str(n))\n",
    "\n",
    "for n in y_pred:\n",
    "    yhat.append(str(n))\n",
    "\n",
    "\n",
    "print('****** Sem PCA Model Results ******')\n",
    "\n",
    "print(\"Accuracy: \", round(metrics.accuracy_score(ytrue, yhat),2))\n",
    "print(metrics.classification_report(ytrue, yhat, digits=2))\n",
    "\n"
   ]
  },
  {
   "cell_type": "markdown",
   "metadata": {},
   "source": [
    "## Avaliando o modelo  Com PCA"
   ]
  },
  {
   "cell_type": "code",
   "execution_count": 37,
   "metadata": {},
   "outputs": [
    {
     "name": "stdout",
     "output_type": "stream",
     "text": [
      "****** Com PCA ******\n",
      "Treino: 1.0\n",
      "Teste: 0.7333333333333333\n"
     ]
    }
   ],
   "source": [
    "#  Com PCA \n",
    "\n",
    "X_pca_Test = pca.transform(X_test)\n",
    "\n",
    "print('****** Com PCA ******')\n",
    "\n",
    "print(\"Treino:\",model_PCA.score(X_pca_Train,y_train))\n",
    "\n",
    "print(\"Teste:\",model_PCA.score(X_pca_Test,y_test))\n"
   ]
  },
  {
   "cell_type": "code",
   "execution_count": 125,
   "metadata": {},
   "outputs": [
    {
     "name": "stdout",
     "output_type": "stream",
     "text": [
      "****** Com PCA Model Results ******\n",
      "Accuracy:  0.73\n",
      "                 precision    recall  f1-score   support\n",
      "\n",
      "[0 0 0 0 0 0 0]       0.00      0.00      0.00         0\n",
      "[0 0 0 0 0 0 1]       1.00      1.00      1.00         1\n",
      "[0 0 0 0 0 1 0]       1.00      1.00      1.00         1\n",
      "[0 0 0 0 1 0 0]       1.00      0.80      0.89         5\n",
      "[0 0 0 1 0 0 0]       1.00      1.00      1.00         2\n",
      "[0 0 1 0 0 0 0]       1.00      0.56      0.71         9\n",
      "[0 0 1 1 0 0 0]       0.00      0.00      0.00         0\n",
      "[0 1 0 0 0 0 0]       1.00      0.57      0.73         7\n",
      "[1 0 0 0 0 0 0]       1.00      1.00      1.00         5\n",
      "\n",
      "       accuracy                           0.73        30\n",
      "      macro avg       0.78      0.66      0.70        30\n",
      "   weighted avg       1.00      0.73      0.83        30\n",
      "\n"
     ]
    }
   ],
   "source": [
    "y_pred1 = model_PCA.predict(pca.transform(X_test))\n",
    "yhat1 = []\n",
    "\n",
    "\n",
    "for n in y_pred1:\n",
    "    yhat1.append(str(n))\n",
    "\n",
    "print('****** Com PCA Model Results ******')\n",
    "\n",
    "print(\"Accuracy: \", round(metrics.accuracy_score(ytrue, yhat1),2))\n",
    "print(metrics.classification_report(ytrue, yhat1, digits=2))\n"
   ]
  },
  {
   "cell_type": "markdown",
   "metadata": {},
   "source": [
    "## Conclusão<a name=\"conclusao\"></a>"
   ]
  },
  {
   "cell_type": "markdown",
   "metadata": {},
   "source": [
    "### Score\n",
    "A tabela abaixo segue com a acurácia do modelo antes e depois da PCA"
   ]
  },
  {
   "cell_type": "markdown",
   "metadata": {},
   "source": [
    "| MLPClassifier     | Sem PCA | Com PCA |\n",
    "|--------------------|---------|----------|\n",
    "|      |       |        |     |\n",
    "|Score Treino                | 1.0       |   1.0   | \n",
    "|      |        |        |       |\n",
    "| Score Teste     | 0.8        | 0.7333      |"
   ]
  },
  {
   "cell_type": "markdown",
   "metadata": {},
   "source": [
    "Para encontrar os melhores parâmetros para construir o modelo foi usado o GridSearch, ainda sim o score não satisfatório, em busca de uma melhor performance do modelo optou-se em utlizar o PCA-Principal component analysis- que reduziu 88% a dimensionalidade, passando de 200 para 13 componentes, registrando uma perda considerável na acurácia 80% para 73%  do modelo original. \n",
    "\n",
    "    Talvez uma caminho razoável seja construir esta rede neural com o TensorFlow para comparar estes valores, ou seja buscar um modelo que ofereça uma acurácia melhor."
   ]
  },
  {
   "cell_type": "code",
   "execution_count": null,
   "metadata": {},
   "outputs": [],
   "source": []
  }
 ],
 "metadata": {
  "kernelspec": {
   "display_name": "Python 3",
   "language": "python",
   "name": "python3"
  },
  "language_info": {
   "codemirror_mode": {
    "name": "ipython",
    "version": 3
   },
   "file_extension": ".py",
   "mimetype": "text/x-python",
   "name": "python",
   "nbconvert_exporter": "python",
   "pygments_lexer": "ipython3",
   "version": "3.8.5"
  }
 },
 "nbformat": 4,
 "nbformat_minor": 4
}
